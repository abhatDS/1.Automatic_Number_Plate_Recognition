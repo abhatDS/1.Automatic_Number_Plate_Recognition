{
 "cells": [
  {
   "cell_type": "code",
   "execution_count": 16,
   "id": "c1c97394-c176-4fcd-b96d-92501585d472",
   "metadata": {},
   "outputs": [
    {
     "name": "stdout",
     "output_type": "stream",
     "text": [
      "Collecting paddleocr>=2.0.1\n",
      "  Using cached paddleocr-2.7.0.3-py3-none-any.whl.metadata (26 kB)\n",
      "Requirement already satisfied: shapely in c:\\users\\aarti.bhat\\anaconda3\\envs\\myenv\\lib\\site-packages (from paddleocr>=2.0.1) (2.0.2)\n",
      "Requirement already satisfied: scikit-image in c:\\users\\aarti.bhat\\anaconda3\\envs\\myenv\\lib\\site-packages (from paddleocr>=2.0.1) (0.21.0)\n",
      "Collecting imgaug (from paddleocr>=2.0.1)\n",
      "  Using cached imgaug-0.4.0-py2.py3-none-any.whl (948 kB)\n",
      "Requirement already satisfied: pyclipper in c:\\users\\aarti.bhat\\anaconda3\\envs\\myenv\\lib\\site-packages (from paddleocr>=2.0.1) (1.3.0.post5)\n",
      "Requirement already satisfied: lmdb in c:\\users\\aarti.bhat\\anaconda3\\envs\\myenv\\lib\\site-packages (from paddleocr>=2.0.1) (1.4.1)\n",
      "Requirement already satisfied: tqdm in c:\\users\\aarti.bhat\\anaconda3\\envs\\myenv\\lib\\site-packages (from paddleocr>=2.0.1) (4.66.1)\n",
      "Requirement already satisfied: numpy in c:\\users\\aarti.bhat\\anaconda3\\envs\\myenv\\lib\\site-packages (from paddleocr>=2.0.1) (1.24.3)\n",
      "Collecting visualdl (from paddleocr>=2.0.1)\n",
      "  Using cached visualdl-2.5.3-py3-none-any.whl.metadata (25 kB)\n",
      "Requirement already satisfied: rapidfuzz in c:\\users\\aarti.bhat\\anaconda3\\envs\\myenv\\lib\\site-packages (from paddleocr>=2.0.1) (3.5.2)\n",
      "Requirement already satisfied: opencv-python<=4.6.0.66 in c:\\users\\aarti.bhat\\anaconda3\\envs\\myenv\\lib\\site-packages (from paddleocr>=2.0.1) (4.5.5.64)\n",
      "Collecting opencv-contrib-python<=4.6.0.66 (from paddleocr>=2.0.1)\n",
      "  Using cached opencv_contrib_python-4.6.0.66-cp36-abi3-win_amd64.whl (42.5 MB)\n",
      "Collecting cython (from paddleocr>=2.0.1)\n",
      "  Using cached Cython-3.0.6-cp38-cp38-win_amd64.whl.metadata (3.2 kB)\n",
      "Collecting lxml (from paddleocr>=2.0.1)\n",
      "  Using cached lxml-4.9.3-cp38-cp38-win_amd64.whl.metadata (3.8 kB)\n",
      "Collecting premailer (from paddleocr>=2.0.1)\n",
      "  Using cached premailer-3.10.0-py2.py3-none-any.whl (19 kB)\n",
      "Collecting openpyxl (from paddleocr>=2.0.1)\n",
      "  Using cached openpyxl-3.1.2-py2.py3-none-any.whl (249 kB)\n",
      "Collecting attrdict (from paddleocr>=2.0.1)\n",
      "  Using cached attrdict-2.0.1-py2.py3-none-any.whl (9.9 kB)\n",
      "Requirement already satisfied: PyMuPDF<1.21.0 in c:\\users\\aarti.bhat\\anaconda3\\envs\\myenv\\lib\\site-packages (from paddleocr>=2.0.1) (1.20.2)\n",
      "Requirement already satisfied: Pillow>=10.0.0 in c:\\users\\aarti.bhat\\anaconda3\\envs\\myenv\\lib\\site-packages (from paddleocr>=2.0.1) (10.1.0)\n",
      "Requirement already satisfied: pyyaml in c:\\users\\aarti.bhat\\anaconda3\\envs\\myenv\\lib\\site-packages (from paddleocr>=2.0.1) (6.0.1)\n",
      "Collecting python-docx (from paddleocr>=2.0.1)\n",
      "  Using cached python_docx-1.1.0-py3-none-any.whl.metadata (2.0 kB)\n",
      "Collecting beautifulsoup4 (from paddleocr>=2.0.1)\n",
      "  Using cached beautifulsoup4-4.12.2-py3-none-any.whl (142 kB)\n",
      "Requirement already satisfied: fonttools>=4.24.0 in c:\\users\\aarti.bhat\\anaconda3\\envs\\myenv\\lib\\site-packages (from paddleocr>=2.0.1) (4.46.0)\n",
      "Collecting fire>=0.3.0 (from paddleocr>=2.0.1)\n",
      "  Using cached fire-0.5.0-py2.py3-none-any.whl\n",
      "Collecting pdf2docx (from paddleocr>=2.0.1)\n",
      "  Using cached pdf2docx-0.5.6-py3-none-any.whl (148 kB)\n",
      "Requirement already satisfied: six in c:\\users\\aarti.bhat\\anaconda3\\envs\\myenv\\lib\\site-packages (from fire>=0.3.0->paddleocr>=2.0.1) (1.16.0)\n",
      "Requirement already satisfied: termcolor in c:\\users\\aarti.bhat\\anaconda3\\envs\\myenv\\lib\\site-packages (from fire>=0.3.0->paddleocr>=2.0.1) (2.4.0)\n",
      "Requirement already satisfied: soupsieve>1.2 in c:\\users\\aarti.bhat\\anaconda3\\envs\\myenv\\lib\\site-packages (from beautifulsoup4->paddleocr>=2.0.1) (2.5)\n",
      "Requirement already satisfied: scipy in c:\\users\\aarti.bhat\\anaconda3\\envs\\myenv\\lib\\site-packages (from imgaug->paddleocr>=2.0.1) (1.10.1)\n",
      "Requirement already satisfied: matplotlib in c:\\users\\aarti.bhat\\anaconda3\\envs\\myenv\\lib\\site-packages (from imgaug->paddleocr>=2.0.1) (3.7.4)\n",
      "Requirement already satisfied: imageio in c:\\users\\aarti.bhat\\anaconda3\\envs\\myenv\\lib\\site-packages (from imgaug->paddleocr>=2.0.1) (2.33.1)\n",
      "Requirement already satisfied: networkx>=2.8 in c:\\users\\aarti.bhat\\anaconda3\\envs\\myenv\\lib\\site-packages (from scikit-image->paddleocr>=2.0.1) (3.1)\n",
      "Requirement already satisfied: tifffile>=2022.8.12 in c:\\users\\aarti.bhat\\anaconda3\\envs\\myenv\\lib\\site-packages (from scikit-image->paddleocr>=2.0.1) (2023.7.10)\n",
      "Requirement already satisfied: PyWavelets>=1.1.1 in c:\\users\\aarti.bhat\\anaconda3\\envs\\myenv\\lib\\site-packages (from scikit-image->paddleocr>=2.0.1) (1.4.1)\n",
      "Requirement already satisfied: packaging>=21 in c:\\users\\aarti.bhat\\anaconda3\\envs\\myenv\\lib\\site-packages (from scikit-image->paddleocr>=2.0.1) (23.2)\n",
      "Requirement already satisfied: lazy_loader>=0.2 in c:\\users\\aarti.bhat\\anaconda3\\envs\\myenv\\lib\\site-packages (from scikit-image->paddleocr>=2.0.1) (0.3)\n",
      "Collecting et-xmlfile (from openpyxl->paddleocr>=2.0.1)\n",
      "  Using cached et_xmlfile-1.1.0-py3-none-any.whl (4.7 kB)\n",
      "Requirement already satisfied: typing-extensions in c:\\users\\aarti.bhat\\anaconda3\\envs\\myenv\\lib\\site-packages (from python-docx->paddleocr>=2.0.1) (4.5.0)\n",
      "Collecting cssselect (from premailer->paddleocr>=2.0.1)\n",
      "  Using cached cssselect-1.2.0-py2.py3-none-any.whl (18 kB)\n",
      "Collecting cssutils (from premailer->paddleocr>=2.0.1)\n",
      "  Using cached cssutils-2.9.0-py3-none-any.whl.metadata (9.1 kB)\n",
      "Requirement already satisfied: requests in c:\\users\\aarti.bhat\\anaconda3\\envs\\myenv\\lib\\site-packages (from premailer->paddleocr>=2.0.1) (2.31.0)\n",
      "Requirement already satisfied: cachetools in c:\\users\\aarti.bhat\\anaconda3\\envs\\myenv\\lib\\site-packages (from premailer->paddleocr>=2.0.1) (5.3.2)\n",
      "Requirement already satisfied: colorama in c:\\users\\aarti.bhat\\anaconda3\\envs\\myenv\\lib\\site-packages (from tqdm->paddleocr>=2.0.1) (0.4.6)\n",
      "Collecting bce-python-sdk (from visualdl->paddleocr>=2.0.1)\n",
      "  Using cached bce_python_sdk-0.8.97-py3-none-any.whl.metadata (319 bytes)\n",
      "Collecting flask>=1.1.1 (from visualdl->paddleocr>=2.0.1)\n",
      "  Using cached flask-3.0.0-py3-none-any.whl.metadata (3.6 kB)\n",
      "Collecting Flask-Babel>=3.0.0 (from visualdl->paddleocr>=2.0.1)\n",
      "  Using cached flask_babel-4.0.0-py3-none-any.whl.metadata (1.9 kB)\n",
      "Requirement already satisfied: protobuf>=3.20.0 in c:\\users\\aarti.bhat\\anaconda3\\envs\\myenv\\lib\\site-packages (from visualdl->paddleocr>=2.0.1) (3.20.2)\n",
      "Requirement already satisfied: pandas in c:\\users\\aarti.bhat\\anaconda3\\envs\\myenv\\lib\\site-packages (from visualdl->paddleocr>=2.0.1) (2.0.3)\n",
      "Requirement already satisfied: rarfile in c:\\users\\aarti.bhat\\anaconda3\\envs\\myenv\\lib\\site-packages (from visualdl->paddleocr>=2.0.1) (4.1)\n",
      "Requirement already satisfied: psutil in c:\\users\\aarti.bhat\\anaconda3\\envs\\myenv\\lib\\site-packages (from visualdl->paddleocr>=2.0.1) (5.9.6)\n",
      "Requirement already satisfied: Werkzeug>=3.0.0 in c:\\users\\aarti.bhat\\anaconda3\\envs\\myenv\\lib\\site-packages (from flask>=1.1.1->visualdl->paddleocr>=2.0.1) (3.0.1)\n",
      "Collecting Jinja2>=3.1.2 (from flask>=1.1.1->visualdl->paddleocr>=2.0.1)\n",
      "  Using cached Jinja2-3.1.2-py3-none-any.whl (133 kB)\n",
      "Collecting itsdangerous>=2.1.2 (from flask>=1.1.1->visualdl->paddleocr>=2.0.1)\n",
      "  Using cached itsdangerous-2.1.2-py3-none-any.whl (15 kB)\n",
      "Collecting click>=8.1.3 (from flask>=1.1.1->visualdl->paddleocr>=2.0.1)\n",
      "  Using cached click-8.1.7-py3-none-any.whl.metadata (3.0 kB)\n",
      "Collecting blinker>=1.6.2 (from flask>=1.1.1->visualdl->paddleocr>=2.0.1)\n",
      "  Using cached blinker-1.7.0-py3-none-any.whl.metadata (1.9 kB)\n",
      "Requirement already satisfied: importlib-metadata>=3.6.0 in c:\\users\\aarti.bhat\\anaconda3\\envs\\myenv\\lib\\site-packages (from flask>=1.1.1->visualdl->paddleocr>=2.0.1) (7.0.0)\n",
      "Collecting Babel>=2.12 (from Flask-Babel>=3.0.0->visualdl->paddleocr>=2.0.1)\n",
      "  Using cached Babel-2.14.0-py3-none-any.whl.metadata (1.6 kB)\n",
      "Requirement already satisfied: pytz>=2022.7 in c:\\users\\aarti.bhat\\anaconda3\\envs\\myenv\\lib\\site-packages (from Flask-Babel>=3.0.0->visualdl->paddleocr>=2.0.1) (2023.3.post1)\n",
      "Requirement already satisfied: pycryptodome>=3.8.0 in c:\\users\\aarti.bhat\\anaconda3\\envs\\myenv\\lib\\site-packages (from bce-python-sdk->visualdl->paddleocr>=2.0.1) (3.19.0)\n",
      "Collecting future>=0.6.0 (from bce-python-sdk->visualdl->paddleocr>=2.0.1)\n",
      "  Using cached future-0.18.3-py3-none-any.whl\n",
      "Requirement already satisfied: contourpy>=1.0.1 in c:\\users\\aarti.bhat\\anaconda3\\envs\\myenv\\lib\\site-packages (from matplotlib->imgaug->paddleocr>=2.0.1) (1.1.1)\n",
      "Requirement already satisfied: cycler>=0.10 in c:\\users\\aarti.bhat\\anaconda3\\envs\\myenv\\lib\\site-packages (from matplotlib->imgaug->paddleocr>=2.0.1) (0.12.1)\n",
      "Requirement already satisfied: kiwisolver>=1.0.1 in c:\\users\\aarti.bhat\\anaconda3\\envs\\myenv\\lib\\site-packages (from matplotlib->imgaug->paddleocr>=2.0.1) (1.4.5)\n",
      "Requirement already satisfied: pyparsing>=2.3.1 in c:\\users\\aarti.bhat\\anaconda3\\envs\\myenv\\lib\\site-packages (from matplotlib->imgaug->paddleocr>=2.0.1) (3.1.1)\n",
      "Requirement already satisfied: python-dateutil>=2.7 in c:\\users\\aarti.bhat\\anaconda3\\envs\\myenv\\lib\\site-packages (from matplotlib->imgaug->paddleocr>=2.0.1) (2.8.2)\n",
      "Requirement already satisfied: importlib-resources>=3.2.0 in c:\\users\\aarti.bhat\\anaconda3\\envs\\myenv\\lib\\site-packages (from matplotlib->imgaug->paddleocr>=2.0.1) (6.1.1)\n",
      "Requirement already satisfied: tzdata>=2022.1 in c:\\users\\aarti.bhat\\anaconda3\\envs\\myenv\\lib\\site-packages (from pandas->visualdl->paddleocr>=2.0.1) (2023.3)\n",
      "Requirement already satisfied: charset-normalizer<4,>=2 in c:\\users\\aarti.bhat\\anaconda3\\envs\\myenv\\lib\\site-packages (from requests->premailer->paddleocr>=2.0.1) (3.3.2)\n",
      "Requirement already satisfied: idna<4,>=2.5 in c:\\users\\aarti.bhat\\anaconda3\\envs\\myenv\\lib\\site-packages (from requests->premailer->paddleocr>=2.0.1) (3.6)\n",
      "Requirement already satisfied: urllib3<3,>=1.21.1 in c:\\users\\aarti.bhat\\anaconda3\\envs\\myenv\\lib\\site-packages (from requests->premailer->paddleocr>=2.0.1) (2.1.0)\n",
      "Requirement already satisfied: certifi>=2017.4.17 in c:\\users\\aarti.bhat\\anaconda3\\envs\\myenv\\lib\\site-packages (from requests->premailer->paddleocr>=2.0.1) (2023.11.17)\n",
      "Requirement already satisfied: zipp>=0.5 in c:\\users\\aarti.bhat\\anaconda3\\envs\\myenv\\lib\\site-packages (from importlib-metadata>=3.6.0->flask>=1.1.1->visualdl->paddleocr>=2.0.1) (3.17.0)\n",
      "Requirement already satisfied: MarkupSafe>=2.0 in c:\\users\\aarti.bhat\\anaconda3\\envs\\myenv\\lib\\site-packages (from Jinja2>=3.1.2->flask>=1.1.1->visualdl->paddleocr>=2.0.1) (2.1.3)\n",
      "Using cached paddleocr-2.7.0.3-py3-none-any.whl (465 kB)\n",
      "Using cached Cython-3.0.6-cp38-cp38-win_amd64.whl (2.8 MB)\n",
      "Using cached lxml-4.9.3-cp38-cp38-win_amd64.whl (3.9 MB)\n",
      "Using cached python_docx-1.1.0-py3-none-any.whl (239 kB)\n",
      "Using cached visualdl-2.5.3-py3-none-any.whl (6.3 MB)\n",
      "Using cached flask-3.0.0-py3-none-any.whl (99 kB)\n",
      "Using cached flask_babel-4.0.0-py3-none-any.whl (9.6 kB)\n",
      "Using cached bce_python_sdk-0.8.97-py3-none-any.whl (241 kB)\n",
      "Using cached cssutils-2.9.0-py3-none-any.whl (398 kB)\n",
      "Using cached Babel-2.14.0-py3-none-any.whl (11.0 MB)\n",
      "Using cached blinker-1.7.0-py3-none-any.whl (13 kB)\n",
      "Using cached click-8.1.7-py3-none-any.whl (97 kB)\n",
      "Installing collected packages: opencv-contrib-python, lxml, Jinja2, itsdangerous, future, fire, et-xmlfile, cython, cssutils, cssselect, click, blinker, beautifulsoup4, Babel, attrdict, python-docx, premailer, openpyxl, flask, bce-python-sdk, pdf2docx, imgaug, Flask-Babel, visualdl, paddleocr\n",
      "Successfully installed Babel-2.14.0 Flask-Babel-4.0.0 Jinja2-3.1.2 attrdict-2.0.1 bce-python-sdk-0.8.97 beautifulsoup4-4.12.2 blinker-1.7.0 click-8.1.7 cssselect-1.2.0 cssutils-2.9.0 cython-3.0.6 et-xmlfile-1.1.0 fire-0.5.0 flask-3.0.0 future-0.18.3 imgaug-0.4.0 itsdangerous-2.1.2 lxml-4.9.3 opencv-contrib-python-4.6.0.66 openpyxl-3.1.2 paddleocr-2.7.0.3 pdf2docx-0.5.6 premailer-3.10.0 python-docx-1.1.0 visualdl-2.5.3\n",
      "Note: you may need to restart the kernel to use updated packages.\n"
     ]
    },
    {
     "name": "stderr",
     "output_type": "stream",
     "text": [
      "  WARNING: The scripts futurize.exe and pasteurize.exe are installed in 'C:\\Users\\aarti.bhat\\AppData\\Roaming\\Python\\Python38\\Scripts' which is not on PATH.\n",
      "  Consider adding this directory to PATH or, if you prefer to suppress this warning, use --no-warn-script-location.\n",
      "  WARNING: The scripts cygdb.exe, cython.exe and cythonize.exe are installed in 'C:\\Users\\aarti.bhat\\AppData\\Roaming\\Python\\Python38\\Scripts' which is not on PATH.\n",
      "  Consider adding this directory to PATH or, if you prefer to suppress this warning, use --no-warn-script-location.\n",
      "  WARNING: The scripts csscapture.exe, csscombine.exe and cssparse.exe are installed in 'C:\\Users\\aarti.bhat\\AppData\\Roaming\\Python\\Python38\\Scripts' which is not on PATH.\n",
      "  Consider adding this directory to PATH or, if you prefer to suppress this warning, use --no-warn-script-location.\n",
      "  WARNING: The script pybabel.exe is installed in 'C:\\Users\\aarti.bhat\\AppData\\Roaming\\Python\\Python38\\Scripts' which is not on PATH.\n",
      "  Consider adding this directory to PATH or, if you prefer to suppress this warning, use --no-warn-script-location.\n",
      "  WARNING: The script flask.exe is installed in 'C:\\Users\\aarti.bhat\\AppData\\Roaming\\Python\\Python38\\Scripts' which is not on PATH.\n",
      "  Consider adding this directory to PATH or, if you prefer to suppress this warning, use --no-warn-script-location.\n",
      "  WARNING: The script pdf2docx.exe is installed in 'C:\\Users\\aarti.bhat\\AppData\\Roaming\\Python\\Python38\\Scripts' which is not on PATH.\n",
      "  Consider adding this directory to PATH or, if you prefer to suppress this warning, use --no-warn-script-location.\n",
      "  WARNING: The script visualdl.exe is installed in 'C:\\Users\\aarti.bhat\\AppData\\Roaming\\Python\\Python38\\Scripts' which is not on PATH.\n",
      "  Consider adding this directory to PATH or, if you prefer to suppress this warning, use --no-warn-script-location.\n",
      "  WARNING: The script paddleocr.exe is installed in 'C:\\Users\\aarti.bhat\\AppData\\Roaming\\Python\\Python38\\Scripts' which is not on PATH.\n",
      "  Consider adding this directory to PATH or, if you prefer to suppress this warning, use --no-warn-script-location.\n"
     ]
    }
   ],
   "source": [
    "pip install \"paddleocr>=2.0.1\" --user"
   ]
  },
  {
   "cell_type": "code",
   "execution_count": 1,
   "id": "27d5e8fa-68df-4675-9dcc-c7af3caa8506",
   "metadata": {},
   "outputs": [],
   "source": [
    "from paddleocr import PaddleOCR, draw_ocr"
   ]
  },
  {
   "cell_type": "markdown",
   "id": "caeabe2e-72e6-4598-8ce9-4b36792d9124",
   "metadata": {},
   "source": [
    "## Paddle OCR \n",
    "## Paddle OCR - Instantiate and detect our Model/n\n",
    "## Draw OCR - Visualization Purpose"
   ]
  },
  {
   "cell_type": "code",
   "execution_count": null,
   "id": "4e172de9-8256-4492-9c62-7ffc7580e7b0",
   "metadata": {},
   "outputs": [],
   "source": [
    "import requests\n",
    "from requests.packages.urllib3.exceptions import InsecureRequestWarning\n",
    "\n",
    "# Disable SSL warnings\n",
    "requests.packages.urllib3.disable_warnings(InsecureRequestWarning)\n",
    "\n",
    "url = 'https://paddleocr.bj.bcebos.com/PP-OCRv3/english/en_PP-OCRv3_det_infer.tar'\n",
    "response = requests.get(url, verify=False)\n",
    "\n",
    "# Process the response as needed"
   ]
  },
  {
   "cell_type": "code",
   "execution_count": 5,
   "id": "770f1fe1-3372-4887-b6e0-9f75f3ac0847",
   "metadata": {},
   "outputs": [
    {
     "name": "stdout",
     "output_type": "stream",
     "text": [
      "download https://paddleocr.bj.bcebos.com/dygraph_v2.0/ch/ch_ppocr_mobile_v2.0_cls_infer.tar to C:\\Users\\aarti.bhat/.paddleocr/whl\\cls\\ch_ppocr_mobile_v2.0_cls_infer\\ch_ppocr_mobile_v2.0_cls_infer.tar\n"
     ]
    },
    {
     "name": "stderr",
     "output_type": "stream",
     "text": [
      "100%|█████████████████████████████████████████████████████████████████████████████| 2.19M/2.19M [00:13<00:00, 160kiB/s]"
     ]
    },
    {
     "name": "stdout",
     "output_type": "stream",
     "text": [
      "[2023/12/13 12:38:17] ppocr DEBUG: Namespace(alpha=1.0, alphacolor=(255, 255, 255), benchmark=False, beta=1.0, binarize=False, cls_batch_num=6, cls_image_shape='3, 48, 192', cls_model_dir='C:\\\\Users\\\\aarti.bhat/.paddleocr/whl\\\\cls\\\\ch_ppocr_mobile_v2.0_cls_infer', cls_thresh=0.9, cpu_threads=10, crop_res_save_dir='./output', det=True, det_algorithm='DB', det_box_type='quad', det_db_box_thresh=0.6, det_db_score_mode='fast', det_db_thresh=0.3, det_db_unclip_ratio=1.5, det_east_cover_thresh=0.1, det_east_nms_thresh=0.2, det_east_score_thresh=0.8, det_limit_side_len=960, det_limit_type='max', det_model_dir='C:\\\\Users\\\\aarti.bhat/.paddleocr/whl\\\\det\\\\en\\\\en_PP-OCRv3_det_infer', det_pse_box_thresh=0.85, det_pse_min_area=16, det_pse_scale=1, det_pse_thresh=0, det_sast_nms_thresh=0.2, det_sast_score_thresh=0.5, draw_img_save_dir='./inference_results', drop_score=0.5, e2e_algorithm='PGNet', e2e_char_dict_path='./ppocr/utils/ic15_dict.txt', e2e_limit_side_len=768, e2e_limit_type='max', e2e_model_dir=None, e2e_pgnet_mode='fast', e2e_pgnet_score_thresh=0.5, e2e_pgnet_valid_set='totaltext', enable_mkldnn=False, fourier_degree=5, gpu_id=0, gpu_mem=500, help='==SUPPRESS==', image_dir=None, image_orientation=False, invert=False, ir_optim=True, kie_algorithm='LayoutXLM', label_list=['0', '180'], lang='en', layout=True, layout_dict_path=None, layout_model_dir=None, layout_nms_threshold=0.5, layout_score_threshold=0.5, max_batch_size=10, max_text_length=25, merge_no_span_structure=True, min_subgraph_size=15, mode='structure', ocr=True, ocr_order_method=None, ocr_version='PP-OCRv4', output='./output', page_num=0, precision='fp32', process_id=0, re_model_dir=None, rec=True, rec_algorithm='SVTR_LCNet', rec_batch_num=6, rec_char_dict_path='C:\\\\Users\\\\aarti.bhat\\\\AppData\\\\Roaming\\\\Python\\\\Python38\\\\site-packages\\\\paddleocr\\\\ppocr\\\\utils\\\\en_dict.txt', rec_image_inverse=True, rec_image_shape='3, 48, 320', rec_model_dir='C:\\\\Users\\\\aarti.bhat/.paddleocr/whl\\\\rec\\\\en\\\\en_PP-OCRv4_rec_infer', recovery=False, save_crop_res=False, save_log_path='./log_output/', scales=[8, 16, 32], ser_dict_path='../train_data/XFUND/class_list_xfun.txt', ser_model_dir=None, show_log=True, sr_batch_num=1, sr_image_shape='3, 32, 128', sr_model_dir=None, structure_version='PP-StructureV2', table=True, table_algorithm='TableAttn', table_char_dict_path=None, table_max_len=488, table_model_dir=None, total_process_num=1, type='ocr', use_angle_cls=False, use_dilation=False, use_gpu=False, use_mp=False, use_npu=False, use_onnx=False, use_pdf2docx_api=False, use_pdserving=False, use_space_char=True, use_tensorrt=False, use_visual_backbone=True, use_xpu=False, vis_font_path='./doc/fonts/simfang.ttf', warmup=False)\n"
     ]
    },
    {
     "name": "stderr",
     "output_type": "stream",
     "text": [
      "\n"
     ]
    }
   ],
   "source": [
    "ocr_object = PaddleOCR(lang='en')"
   ]
  },
  {
   "cell_type": "code",
   "execution_count": 8,
   "id": "971f4975-ab21-42bd-8720-42e1422d29c8",
   "metadata": {},
   "outputs": [],
   "source": [
    "import os"
   ]
  },
  {
   "cell_type": "code",
   "execution_count": 9,
   "id": "078d0e0c-ba82-4ff6-895e-f4194db0d90a",
   "metadata": {},
   "outputs": [],
   "source": [
    "path = os.path.join(os.getcwd(),\"Test\",\"Number_Plate.jpg\")"
   ]
  },
  {
   "cell_type": "code",
   "execution_count": 10,
   "id": "5c8fdaae-d54a-4d4b-98a9-267af2768c4b",
   "metadata": {},
   "outputs": [
    {
     "data": {
      "text/plain": [
       "'C:\\\\Users\\\\aarti.bhat\\\\OneDrive - Accenture\\\\Documents\\\\4.Learning\\\\25. AI Projects\\\\13. Automatic Number Plate Recognition\\\\Test\\\\Number_Plate.jpg'"
      ]
     },
     "execution_count": 10,
     "metadata": {},
     "output_type": "execute_result"
    }
   ],
   "source": [
    "path"
   ]
  },
  {
   "cell_type": "code",
   "execution_count": 11,
   "id": "e97e11df-9540-49b5-a119-228821314fb5",
   "metadata": {},
   "outputs": [
    {
     "name": "stdout",
     "output_type": "stream",
     "text": [
      "[2023/12/13 12:43:49] ppocr WARNING: Since the angle classifier is not initialized, it will not be used during the forward process\n",
      "[2023/12/13 12:43:50] ppocr DEBUG: dt_boxes num : 1, elapsed : 0.2564351558685303\n",
      "[2023/12/13 12:43:50] ppocr DEBUG: rec_res num  : 1, elapsed : 0.16863203048706055\n"
     ]
    }
   ],
   "source": [
    "result = ocr_object.ocr(path,cls=True)"
   ]
  },
  {
   "cell_type": "code",
   "execution_count": 12,
   "id": "f1f03e15-bc52-4a19-bbe9-8bcb7c716c48",
   "metadata": {},
   "outputs": [
    {
     "data": {
      "text/plain": [
       "[[[[[148.0, 85.0], [302.0, 85.0], [302.0, 132.0], [148.0, 132.0]],\n",
       "   ('GJ03ER0563', 0.9424597024917603)]]]"
      ]
     },
     "execution_count": 12,
     "metadata": {},
     "output_type": "execute_result"
    }
   ],
   "source": [
    "result"
   ]
  },
  {
   "cell_type": "code",
   "execution_count": 17,
   "id": "e45803f0-0b2e-4daf-8a62-c6751ad5907f",
   "metadata": {},
   "outputs": [],
   "source": [
    "from PIL import Image\n",
    "import os, shutil"
   ]
  },
  {
   "cell_type": "code",
   "execution_count": 18,
   "id": "b83dcbd4-e98a-4d08-a064-b1b4bc4c702c",
   "metadata": {},
   "outputs": [],
   "source": [
    "file_name = \"ocr_result.jpeg\""
   ]
  },
  {
   "cell_type": "code",
   "execution_count": 20,
   "id": "8273f8b9-593c-4f90-9c85-2365d16238ec",
   "metadata": {},
   "outputs": [],
   "source": [
    "img = Image.open(path).convert('RGB')"
   ]
  },
  {
   "cell_type": "code",
   "execution_count": 21,
   "id": "0fd20fc0-c73d-4c0d-a937-a91178947c24",
   "metadata": {},
   "outputs": [
    {
     "data": {
      "image/jpeg": "[encoded data removed]",
      "image/png": "[encoded data removed]",
      "text/plain": [
       "<PIL.Image.Image image mode=RGB size=517x298>"
      ]
     },
     "execution_count": 21,
     "metadata": {},
     "output_type": "execute_result"
    }
   ],
   "source": [
    "img"
   ]
  },
  {
   "cell_type": "code",
   "execution_count": 23,
   "id": "c1eb5cc9-a4b4-44a1-80fd-19fa4faa2b53",
   "metadata": {},
   "outputs": [
    {
     "data": {
      "text/plain": [
       "\u001b[1;31mSignature:\u001b[0m\n",
       "\u001b[0mdraw_ocr\u001b[0m\u001b[1;33m(\u001b[0m\u001b[1;33m\n",
       "\u001b[0m    \u001b[0mimage\u001b[0m\u001b[1;33m,\u001b[0m\u001b[1;33m\n",
       "\u001b[0m    \u001b[0mboxes\u001b[0m\u001b[1;33m,\u001b[0m\u001b[1;33m\n",
       "\u001b[0m    \u001b[0mtxts\u001b[0m\u001b[1;33m=\u001b[0m\u001b[1;32mNone\u001b[0m\u001b[1;33m,\u001b[0m\u001b[1;33m\n",
       "\u001b[0m    \u001b[0mscores\u001b[0m\u001b[1;33m=\u001b[0m\u001b[1;32mNone\u001b[0m\u001b[1;33m,\u001b[0m\u001b[1;33m\n",
       "\u001b[0m    \u001b[0mdrop_score\u001b[0m\u001b[1;33m=\u001b[0m\u001b[1;36m0.5\u001b[0m\u001b[1;33m,\u001b[0m\u001b[1;33m\n",
       "\u001b[0m    \u001b[0mfont_path\u001b[0m\u001b[1;33m=\u001b[0m\u001b[1;34m'./doc/fonts/simfang.ttf'\u001b[0m\u001b[1;33m,\u001b[0m\u001b[1;33m\n",
       "\u001b[0m\u001b[1;33m)\u001b[0m\u001b[1;33m\u001b[0m\u001b[1;33m\u001b[0m\u001b[0m\n",
       "\u001b[1;31mDocstring:\u001b[0m\n",
       "Visualize the results of OCR detection and recognition\n",
       "args:\n",
       "    image(Image|array): RGB image\n",
       "    boxes(list): boxes with shape(N, 4, 2)\n",
       "    txts(list): the texts\n",
       "    scores(list): txxs corresponding scores\n",
       "    drop_score(float): only scores greater than drop_threshold will be visualized\n",
       "    font_path: the path of font which is used to draw text\n",
       "return(array):\n",
       "    the visualized img\n",
       "\u001b[1;31mFile:\u001b[0m      c:\\users\\aarti.bhat\\appdata\\roaming\\python\\python38\\site-packages\\paddleocr\\tools\\infer\\utility.py\n",
       "\u001b[1;31mType:\u001b[0m      function"
      ]
     },
     "metadata": {},
     "output_type": "display_data"
    }
   ],
   "source": [
    "draw_ocr?"
   ]
  },
  {
   "cell_type": "code",
   "execution_count": 27,
   "id": "1f7288e0-f2cc-420d-83f6-afada99ba941",
   "metadata": {},
   "outputs": [
    {
     "data": {
      "text/plain": [
       "[[[[148.0, 85.0], [302.0, 85.0], [302.0, 132.0], [148.0, 132.0]],\n",
       "  ('GJ03ER0563', 0.9424597024917603)]]"
      ]
     },
     "execution_count": 27,
     "metadata": {},
     "output_type": "execute_result"
    }
   ],
   "source": [
    "result"
   ]
  },
  {
   "cell_type": "code",
   "execution_count": 25,
   "id": "24edd2fc-82fb-419a-a55e-871c65cc0d34",
   "metadata": {},
   "outputs": [],
   "source": [
    "boxes = [line[0] for line in result]"
   ]
  },
  {
   "cell_type": "code",
   "execution_count": 26,
   "id": "95743ec0-37d5-4e78-a65e-9bbf87ff4002",
   "metadata": {},
   "outputs": [
    {
     "data": {
      "text/plain": [
       "[[[148.0, 85.0], [302.0, 85.0], [302.0, 132.0], [148.0, 132.0]]]"
      ]
     },
     "execution_count": 26,
     "metadata": {},
     "output_type": "execute_result"
    }
   ],
   "source": [
    "boxes"
   ]
  },
  {
   "cell_type": "code",
   "execution_count": 30,
   "id": "aa670436-513f-4ca4-8997-48f92c871d77",
   "metadata": {},
   "outputs": [],
   "source": [
    "txts = [line[1][0] for line in result]"
   ]
  },
  {
   "cell_type": "code",
   "execution_count": 31,
   "id": "5f96364c-ce93-4941-ba95-a51fa25ebee5",
   "metadata": {},
   "outputs": [
    {
     "data": {
      "text/plain": [
       "['GJ03ER0563']"
      ]
     },
     "execution_count": 31,
     "metadata": {},
     "output_type": "execute_result"
    }
   ],
   "source": [
    "txts"
   ]
  },
  {
   "cell_type": "code",
   "execution_count": 32,
   "id": "7235be7c-0639-4f70-ac61-9a870de188ee",
   "metadata": {},
   "outputs": [],
   "source": [
    "scores = [line[1][1] for line in result]"
   ]
  },
  {
   "cell_type": "code",
   "execution_count": 33,
   "id": "6c3ce7b6-beeb-4054-9cd0-d94e1995b099",
   "metadata": {},
   "outputs": [
    {
     "data": {
      "text/plain": [
       "[0.9424597024917603]"
      ]
     },
     "execution_count": 33,
     "metadata": {},
     "output_type": "execute_result"
    }
   ],
   "source": [
    "scores"
   ]
  },
  {
   "cell_type": "code",
   "execution_count": 34,
   "id": "dcbc400a-b3e2-4c73-828b-04c8a88553c0",
   "metadata": {},
   "outputs": [],
   "source": [
    "font_path = os.path.join(os.getcwd(),\"simfang.ttf\")"
   ]
  },
  {
   "cell_type": "code",
   "execution_count": 35,
   "id": "6cf3810c-a4f8-474f-a5cb-2d2555b7bdd0",
   "metadata": {},
   "outputs": [],
   "source": [
    "im_show = draw_ocr(img,boxes=boxes,txts=txts,scores=scores,font_path=font_path)"
   ]
  },
  {
   "cell_type": "code",
   "execution_count": 36,
   "id": "4e876fed-f95a-41c5-8148-3add97f851de",
   "metadata": {},
   "outputs": [
    {
     "data": {
      "text/plain": [
       "array([[[255, 255, 255],\n",
       "        [255, 255, 255],\n",
       "        [255, 255, 255],\n",
       "        ...,\n",
       "        [255, 255, 255],\n",
       "        [255, 255, 255],\n",
       "        [  0,   0,   0]],\n",
       "\n",
       "       [[255, 255, 255],\n",
       "        [255, 255, 255],\n",
       "        [255, 255, 255],\n",
       "        ...,\n",
       "        [255, 255, 255],\n",
       "        [255, 255, 255],\n",
       "        [  0,   0,   0]],\n",
       "\n",
       "       [[255, 255, 255],\n",
       "        [255, 255, 255],\n",
       "        [255, 255, 255],\n",
       "        ...,\n",
       "        [255, 255, 255],\n",
       "        [255, 255, 255],\n",
       "        [  0,   0,   0]],\n",
       "\n",
       "       ...,\n",
       "\n",
       "       [[255, 255, 255],\n",
       "        [255, 255, 255],\n",
       "        [255, 255, 255],\n",
       "        ...,\n",
       "        [255, 255, 255],\n",
       "        [255, 255, 255],\n",
       "        [  0,   0,   0]],\n",
       "\n",
       "       [[255, 255, 255],\n",
       "        [255, 255, 255],\n",
       "        [255, 255, 255],\n",
       "        ...,\n",
       "        [255, 255, 255],\n",
       "        [255, 255, 255],\n",
       "        [  0,   0,   0]],\n",
       "\n",
       "       [[255, 255, 255],\n",
       "        [255, 255, 255],\n",
       "        [255, 255, 255],\n",
       "        ...,\n",
       "        [255, 255, 255],\n",
       "        [255, 255, 255],\n",
       "        [  0,   0,   0]]], dtype=uint8)"
      ]
     },
     "execution_count": 36,
     "metadata": {},
     "output_type": "execute_result"
    }
   ],
   "source": [
    "im_show"
   ]
  },
  {
   "cell_type": "code",
   "execution_count": 37,
   "id": "de5f8467-b0a8-4cca-8c90-b7d1fa3dafcb",
   "metadata": {},
   "outputs": [],
   "source": [
    "import cv2"
   ]
  },
  {
   "cell_type": "code",
   "execution_count": 38,
   "id": "ec44e5be-667d-4b4b-afd8-a43383bc069c",
   "metadata": {},
   "outputs": [],
   "source": [
    "cv2.imshow(\"OCR Image\",im_show)\n",
    "cv2.waitKey(0)\n",
    "cv2.destroyAllWindows()"
   ]
  },
  {
   "cell_type": "code",
   "execution_count": 42,
   "id": "23850de0-9946-475a-bc43-167531c82d4a",
   "metadata": {},
   "outputs": [
    {
     "ename": "FileExistsError",
     "evalue": "[WinError 183] Cannot create a file when that file already exists: 'C:\\\\Users\\\\aarti.bhat\\\\OneDrive - Accenture\\\\Documents\\\\4.Learning\\\\25. AI Projects\\\\13. Automatic Number Plate Recognition\\\\Predictions\\\\OCR'",
     "output_type": "error",
     "traceback": [
      "\u001b[1;31m---------------------------------------------------------------------------\u001b[0m",
      "\u001b[1;31mFileExistsError\u001b[0m                           Traceback (most recent call last)",
      "Cell \u001b[1;32mIn[42], line 2\u001b[0m\n\u001b[0;32m      1\u001b[0m ocr_result_path \u001b[38;5;241m=\u001b[39m os\u001b[38;5;241m.\u001b[39mpath\u001b[38;5;241m.\u001b[39mjoin(os\u001b[38;5;241m.\u001b[39mgetcwd(),\u001b[38;5;124m\"\u001b[39m\u001b[38;5;124mPredictions\u001b[39m\u001b[38;5;124m\"\u001b[39m,\u001b[38;5;124m\"\u001b[39m\u001b[38;5;124mOCR\u001b[39m\u001b[38;5;124m\"\u001b[39m)\n\u001b[1;32m----> 2\u001b[0m \u001b[43mos\u001b[49m\u001b[38;5;241;43m.\u001b[39;49m\u001b[43mmakedirs\u001b[49m\u001b[43m(\u001b[49m\u001b[43mocr_result_path\u001b[49m\u001b[43m)\u001b[49m\n\u001b[0;32m      3\u001b[0m ocr_result_file_path \u001b[38;5;241m=\u001b[39m os\u001b[38;5;241m.\u001b[39mpath\u001b[38;5;241m.\u001b[39mjoin(ocr_result_path,file_name)\n",
      "File \u001b[1;32m~\\Anaconda3\\envs\\myenv\\lib\\os.py:223\u001b[0m, in \u001b[0;36mmakedirs\u001b[1;34m(name, mode, exist_ok)\u001b[0m\n\u001b[0;32m    221\u001b[0m         \u001b[38;5;28;01mreturn\u001b[39;00m\n\u001b[0;32m    222\u001b[0m \u001b[38;5;28;01mtry\u001b[39;00m:\n\u001b[1;32m--> 223\u001b[0m     \u001b[43mmkdir\u001b[49m\u001b[43m(\u001b[49m\u001b[43mname\u001b[49m\u001b[43m,\u001b[49m\u001b[43m \u001b[49m\u001b[43mmode\u001b[49m\u001b[43m)\u001b[49m\n\u001b[0;32m    224\u001b[0m \u001b[38;5;28;01mexcept\u001b[39;00m \u001b[38;5;167;01mOSError\u001b[39;00m:\n\u001b[0;32m    225\u001b[0m     \u001b[38;5;66;03m# Cannot rely on checking for EEXIST, since the operating system\u001b[39;00m\n\u001b[0;32m    226\u001b[0m     \u001b[38;5;66;03m# could give priority to other errors like EACCES or EROFS\u001b[39;00m\n\u001b[0;32m    227\u001b[0m     \u001b[38;5;28;01mif\u001b[39;00m \u001b[38;5;129;01mnot\u001b[39;00m exist_ok \u001b[38;5;129;01mor\u001b[39;00m \u001b[38;5;129;01mnot\u001b[39;00m path\u001b[38;5;241m.\u001b[39misdir(name):\n",
      "\u001b[1;31mFileExistsError\u001b[0m: [WinError 183] Cannot create a file when that file already exists: 'C:\\\\Users\\\\aarti.bhat\\\\OneDrive - Accenture\\\\Documents\\\\4.Learning\\\\25. AI Projects\\\\13. Automatic Number Plate Recognition\\\\Predictions\\\\OCR'"
     ]
    }
   ],
   "source": [
    "ocr_result_path = os.path.join(os.getcwd(),\"Predictions\",\"OCR\")\n",
    "os.makedirs(ocr_result_path)\n"
   ]
  },
  {
   "cell_type": "code",
   "execution_count": 43,
   "id": "88c07279-ba8f-4746-a418-ace91f69e8df",
   "metadata": {},
   "outputs": [],
   "source": [
    "ocr_result_file_path = os.path.join(ocr_result_path,file_name)"
   ]
  },
  {
   "cell_type": "code",
   "execution_count": 46,
   "id": "948d40f7-f8bb-41e7-864b-979f1ec2cbcc",
   "metadata": {},
   "outputs": [
    {
     "data": {
      "text/plain": [
       "True"
      ]
     },
     "execution_count": 46,
     "metadata": {},
     "output_type": "execute_result"
    }
   ],
   "source": [
    "cv2.imwrite(ocr_result_file_path,im_show)"
   ]
  },
  {
   "cell_type": "code",
   "execution_count": null,
   "id": "630a8e1f-758a-4015-8431-1da71de80e05",
   "metadata": {},
   "outputs": [],
   "source": []
  }
 ],
 "metadata": {
  "kernelspec": {
   "display_name": "aab",
   "language": "python",
   "name": "aab"
  },
  "language_info": {
   "codemirror_mode": {
    "name": "ipython",
    "version": 3
   },
   "file_extension": ".py",
   "mimetype": "text/x-python",
   "name": "python",
   "nbconvert_exporter": "python",
   "pygments_lexer": "ipython3",
   "version": "3.8.18"
  }
 },
 "nbformat": 4,
 "nbformat_minor": 5
}
