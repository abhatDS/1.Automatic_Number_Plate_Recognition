{
 "cells": [
  {
   "cell_type": "code",
   "execution_count": 2,
   "id": "8a385cb8-89a1-4fde-af2b-156e88700826",
   "metadata": {},
   "outputs": [],
   "source": [
    "import cv2"
   ]
  },
  {
   "cell_type": "code",
   "execution_count": 3,
   "id": "b914b6e0-26be-4c4f-b9e1-b39ce5f5ff4c",
   "metadata": {},
   "outputs": [],
   "source": [
    "import os"
   ]
  },
  {
   "cell_type": "code",
   "execution_count": 4,
   "id": "7d6f810a-fdaf-4751-8f63-15aef72aa6de",
   "metadata": {},
   "outputs": [],
   "source": [
    "path = os.path.join(os.getcwd(),\"Data\",\"DATASET\",\"images\",\"images\",\"N106.jpeg\")"
   ]
  },
  {
   "cell_type": "code",
   "execution_count": 5,
   "id": "8d04f092-ef04-451f-bb25-fc6b30aa859c",
   "metadata": {},
   "outputs": [
    {
     "data": {
      "text/plain": [
       "'C:\\\\Users\\\\aarti.bhat\\\\OneDrive - Accenture\\\\Documents\\\\4.Learning\\\\25. AI Projects\\\\13. Automatic Number Plate Recognition\\\\Data\\\\DATASET\\\\images\\\\images\\\\N106.jpeg'"
      ]
     },
     "execution_count": 5,
     "metadata": {},
     "output_type": "execute_result"
    }
   ],
   "source": [
    "path"
   ]
  },
  {
   "cell_type": "code",
   "execution_count": 25,
   "id": "b5ff2549-51b2-4643-ab0c-084ed61ef9c3",
   "metadata": {},
   "outputs": [],
   "source": [
    "img = cv2.imread(path)"
   ]
  },
  {
   "cell_type": "code",
   "execution_count": 15,
   "id": "173f4c80-4c07-49ed-a55a-8f85e46fb848",
   "metadata": {},
   "outputs": [],
   "source": [
    "#cv2.imshow(\"test image\",img) #Creates window with name give \n",
    "#cv2.waitKey(0) #Window to hold, in ms, 0 keyboard enabled, when pressed , stops i, image frame is wait\n",
    "#cv2.destroyWindow() #WIll only close window provided by identifier\n",
    "#cv2.destroyAllWindows() #All windows closed if this function is used"
   ]
  },
  {
   "cell_type": "code",
   "execution_count": 17,
   "id": "2e041b11-fb90-40a4-beda-9384784fd619",
   "metadata": {},
   "outputs": [],
   "source": [
    "#Helps create 2 windows and destroys all windows\n",
    "cv2.imshow(\"test image\",img) #Creates window with name give \n",
    "cv2.imshow(\"test image2\",img)\n",
    "cv2.waitKey(0) #Window to hold, in ms, 0 keyboard enabled, when pressed , stops i, image frame is wait\n",
    "#cv2.destroyWindow() #WIll only close window provided by identifier\n",
    "cv2.destroyAllWindows() #All windows closed if this function is used"
   ]
  },
  {
   "cell_type": "code",
   "execution_count": null,
   "id": "af4b389f-77a4-49cb-a89c-187ee6fe2911",
   "metadata": {},
   "outputs": [],
   "source": [
    "#Helps create 2 windows and destroys only 1  window\n",
    "cv2.imshow(\"test image\",img) #Creates window with name give \n",
    "cv2.imshow(\"test image2\",img)\n",
    "cv2.waitKey(0) #Window to hold, in ms, 0 keyboard enabled, when pressed , stops i, image frame is wait\n",
    "cv2.destroyWindow(\"test image\") #WIll only close window provided by identifier\n",
    "#cv2.destroyAllWindows() #All windows closed if this function is used"
   ]
  },
  {
   "cell_type": "code",
   "execution_count": null,
   "id": "455c4e0b-519a-411f-8ad3-da8367c5aab4",
   "metadata": {},
   "outputs": [],
   "source": [
    "cv2.destroyWindow(\"test image2\") #use this to close other window otherwise program hangs"
   ]
  },
  {
   "cell_type": "markdown",
   "id": "a8280f90-ac3b-4af7-8d5b-4edf653d4be4",
   "metadata": {},
   "source": [
    "#Show Multiple Images and Slide Show"
   ]
  },
  {
   "cell_type": "code",
   "execution_count": 26,
   "id": "6edf8b19-7f77-4e45-a2b2-4c4af8ba1c27",
   "metadata": {},
   "outputs": [],
   "source": [
    "resize_img = cv2.resize(img,(500,700))\n"
   ]
  },
  {
   "cell_type": "code",
   "execution_count": 14,
   "id": "1434e815-5746-4b72-9d45-7c6b79dcf225",
   "metadata": {},
   "outputs": [],
   "source": [
    "new_img = cv2.line(resize_img,pt1= (50,300),pt2=(250,300),color=(0,255,0),thickness=4, lineType = 4)\n",
    "cv2.imshow(\"image1\",new_img)\n",
    "cv2.waitKey(0)\n",
    "cv2.destroyAllWindows()"
   ]
  },
  {
   "cell_type": "code",
   "execution_count": 18,
   "id": "39021b53-f57f-4d6a-819a-475e2481cc71",
   "metadata": {},
   "outputs": [],
   "source": [
    "rec_img = cv2.rectangle(resize_img,pt1=(50,300),pt2=(250,600),color=(0,255,0),thickness=4,lineType= 16)\n",
    "cv2.imshow(\"image1\",rec_img)\n",
    "cv2.waitKey(0)\n",
    "cv2.destroyAllWindows()"
   ]
  },
  {
   "cell_type": "code",
   "execution_count": 27,
   "id": "e05139cd-b2f9-44ce-99dd-3aa85bf8d2dc",
   "metadata": {},
   "outputs": [],
   "source": [
    "txt_img = cv2.putText(rec_img,\"This is car\",org=(100,20),fontFace=2,fontScale=1,color=(0,0,255),thickness=4,lineType=16)\n",
    "cv2.imshow(\"image1\",txt_img)\n",
    "cv2.waitKey(0)\n",
    "cv2.destroyAllWindows()"
   ]
  },
  {
   "cell_type": "code",
   "execution_count": null,
   "id": "5e25e542-e859-45ce-a418-83955c052ccb",
   "metadata": {},
   "outputs": [],
   "source": []
  }
 ],
 "metadata": {
  "kernelspec": {
   "display_name": "aab",
   "language": "python",
   "name": "aab"
  },
  "language_info": {
   "codemirror_mode": {
    "name": "ipython",
    "version": 3
   },
   "file_extension": ".py",
   "mimetype": "text/x-python",
   "name": "python",
   "nbconvert_exporter": "python",
   "pygments_lexer": "ipython3",
   "version": "3.8.18"
  }
 },
 "nbformat": 4,
 "nbformat_minor": 5
}
